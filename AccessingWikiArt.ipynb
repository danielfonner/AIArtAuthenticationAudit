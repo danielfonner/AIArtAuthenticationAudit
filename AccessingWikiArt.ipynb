{
 "cells": [
  {
   "cell_type": "code",
   "execution_count": null,
   "metadata": {},
   "outputs": [
    {
     "name": "stdout",
     "output_type": "stream",
     "text": [
      "Collecting datasets\n",
      "  Downloading datasets-3.5.0-py3-none-any.whl.metadata (19 kB)\n",
      "Requirement already satisfied: filelock in /usr/local/lib/python3.11/dist-packages (from datasets) (3.18.0)\n",
      "Requirement already satisfied: numpy>=1.17 in /usr/local/lib/python3.11/dist-packages (from datasets) (2.0.2)\n",
      "Requirement already satisfied: pyarrow>=15.0.0 in /usr/local/lib/python3.11/dist-packages (from datasets) (18.1.0)\n",
      "Collecting dill<0.3.9,>=0.3.0 (from datasets)\n",
      "  Downloading dill-0.3.8-py3-none-any.whl.metadata (10 kB)\n",
      "Requirement already satisfied: pandas in /usr/local/lib/python3.11/dist-packages (from datasets) (2.2.2)\n",
      "Requirement already satisfied: requests>=2.32.2 in /usr/local/lib/python3.11/dist-packages (from datasets) (2.32.3)\n",
      "Requirement already satisfied: tqdm>=4.66.3 in /usr/local/lib/python3.11/dist-packages (from datasets) (4.67.1)\n",
      "Collecting xxhash (from datasets)\n",
      "  Downloading xxhash-3.5.0-cp311-cp311-manylinux_2_17_x86_64.manylinux2014_x86_64.whl.metadata (12 kB)\n",
      "Collecting multiprocess<0.70.17 (from datasets)\n",
      "  Downloading multiprocess-0.70.16-py311-none-any.whl.metadata (7.2 kB)\n",
      "Collecting fsspec<=2024.12.0,>=2023.1.0 (from fsspec[http]<=2024.12.0,>=2023.1.0->datasets)\n",
      "  Downloading fsspec-2024.12.0-py3-none-any.whl.metadata (11 kB)\n",
      "Requirement already satisfied: aiohttp in /usr/local/lib/python3.11/dist-packages (from datasets) (3.11.14)\n",
      "Requirement already satisfied: huggingface-hub>=0.24.0 in /usr/local/lib/python3.11/dist-packages (from datasets) (0.29.3)\n",
      "Requirement already satisfied: packaging in /usr/local/lib/python3.11/dist-packages (from datasets) (24.2)\n",
      "Requirement already satisfied: pyyaml>=5.1 in /usr/local/lib/python3.11/dist-packages (from datasets) (6.0.2)\n",
      "Requirement already satisfied: aiohappyeyeballs>=2.3.0 in /usr/local/lib/python3.11/dist-packages (from aiohttp->datasets) (2.6.1)\n",
      "Requirement already satisfied: aiosignal>=1.1.2 in /usr/local/lib/python3.11/dist-packages (from aiohttp->datasets) (1.3.2)\n",
      "Requirement already satisfied: attrs>=17.3.0 in /usr/local/lib/python3.11/dist-packages (from aiohttp->datasets) (25.3.0)\n",
      "Requirement already satisfied: frozenlist>=1.1.1 in /usr/local/lib/python3.11/dist-packages (from aiohttp->datasets) (1.5.0)\n",
      "Requirement already satisfied: multidict<7.0,>=4.5 in /usr/local/lib/python3.11/dist-packages (from aiohttp->datasets) (6.2.0)\n",
      "Requirement already satisfied: propcache>=0.2.0 in /usr/local/lib/python3.11/dist-packages (from aiohttp->datasets) (0.3.0)\n",
      "Requirement already satisfied: yarl<2.0,>=1.17.0 in /usr/local/lib/python3.11/dist-packages (from aiohttp->datasets) (1.18.3)\n",
      "Requirement already satisfied: typing-extensions>=3.7.4.3 in /usr/local/lib/python3.11/dist-packages (from huggingface-hub>=0.24.0->datasets) (4.12.2)\n",
      "Requirement already satisfied: charset-normalizer<4,>=2 in /usr/local/lib/python3.11/dist-packages (from requests>=2.32.2->datasets) (3.4.1)\n",
      "Requirement already satisfied: idna<4,>=2.5 in /usr/local/lib/python3.11/dist-packages (from requests>=2.32.2->datasets) (3.10)\n",
      "Requirement already satisfied: urllib3<3,>=1.21.1 in /usr/local/lib/python3.11/dist-packages (from requests>=2.32.2->datasets) (2.3.0)\n",
      "Requirement already satisfied: certifi>=2017.4.17 in /usr/local/lib/python3.11/dist-packages (from requests>=2.32.2->datasets) (2025.1.31)\n",
      "Requirement already satisfied: python-dateutil>=2.8.2 in /usr/local/lib/python3.11/dist-packages (from pandas->datasets) (2.8.2)\n",
      "Requirement already satisfied: pytz>=2020.1 in /usr/local/lib/python3.11/dist-packages (from pandas->datasets) (2025.1)\n",
      "Requirement already satisfied: tzdata>=2022.7 in /usr/local/lib/python3.11/dist-packages (from pandas->datasets) (2025.1)\n",
      "Requirement already satisfied: six>=1.5 in /usr/local/lib/python3.11/dist-packages (from python-dateutil>=2.8.2->pandas->datasets) (1.17.0)\n",
      "Downloading datasets-3.5.0-py3-none-any.whl (491 kB)\n",
      "\u001b[2K   \u001b[90m━━━━━━━━━━━━━━━━━━━━━━━━━━━━━━━━━━━━━━━━\u001b[0m \u001b[32m491.2/491.2 kB\u001b[0m \u001b[31m8.5 MB/s\u001b[0m eta \u001b[36m0:00:00\u001b[0m\n",
      "\u001b[?25hDownloading dill-0.3.8-py3-none-any.whl (116 kB)\n",
      "\u001b[2K   \u001b[90m━━━━━━━━━━━━━━━━━━━━━━━━━━━━━━━━━━━━━━━━\u001b[0m \u001b[32m116.3/116.3 kB\u001b[0m \u001b[31m7.0 MB/s\u001b[0m eta \u001b[36m0:00:00\u001b[0m\n",
      "\u001b[?25hDownloading fsspec-2024.12.0-py3-none-any.whl (183 kB)\n",
      "\u001b[2K   \u001b[90m━━━━━━━━━━━━━━━━━━━━━━━━━━━━━━━━━━━━━━━━\u001b[0m \u001b[32m183.9/183.9 kB\u001b[0m \u001b[31m10.5 MB/s\u001b[0m eta \u001b[36m0:00:00\u001b[0m\n",
      "\u001b[?25hDownloading multiprocess-0.70.16-py311-none-any.whl (143 kB)\n",
      "\u001b[2K   \u001b[90m━━━━━━━━━━━━━━━━━━━━━━━━━━━━━━━━━━━━━━━━\u001b[0m \u001b[32m143.5/143.5 kB\u001b[0m \u001b[31m7.7 MB/s\u001b[0m eta \u001b[36m0:00:00\u001b[0m\n",
      "\u001b[?25hDownloading xxhash-3.5.0-cp311-cp311-manylinux_2_17_x86_64.manylinux2014_x86_64.whl (194 kB)\n",
      "\u001b[2K   \u001b[90m━━━━━━━━━━━━━━━━━━━━━━━━━━━━━━━━━━━━━━━━\u001b[0m \u001b[32m194.8/194.8 kB\u001b[0m \u001b[31m9.4 MB/s\u001b[0m eta \u001b[36m0:00:00\u001b[0m\n",
      "\u001b[?25hInstalling collected packages: xxhash, fsspec, dill, multiprocess, datasets\n",
      "  Attempting uninstall: fsspec\n",
      "    Found existing installation: fsspec 2025.3.0\n",
      "    Uninstalling fsspec-2025.3.0:\n",
      "      Successfully uninstalled fsspec-2025.3.0\n",
      "\u001b[31mERROR: pip's dependency resolver does not currently take into account all the packages that are installed. This behaviour is the source of the following dependency conflicts.\n",
      "gcsfs 2025.3.0 requires fsspec==2025.3.0, but you have fsspec 2024.12.0 which is incompatible.\n",
      "torch 2.6.0+cu124 requires nvidia-cublas-cu12==12.4.5.8; platform_system == \"Linux\" and platform_machine == \"x86_64\", but you have nvidia-cublas-cu12 12.5.3.2 which is incompatible.\n",
      "torch 2.6.0+cu124 requires nvidia-cuda-cupti-cu12==12.4.127; platform_system == \"Linux\" and platform_machine == \"x86_64\", but you have nvidia-cuda-cupti-cu12 12.5.82 which is incompatible.\n",
      "torch 2.6.0+cu124 requires nvidia-cuda-nvrtc-cu12==12.4.127; platform_system == \"Linux\" and platform_machine == \"x86_64\", but you have nvidia-cuda-nvrtc-cu12 12.5.82 which is incompatible.\n",
      "torch 2.6.0+cu124 requires nvidia-cuda-runtime-cu12==12.4.127; platform_system == \"Linux\" and platform_machine == \"x86_64\", but you have nvidia-cuda-runtime-cu12 12.5.82 which is incompatible.\n",
      "torch 2.6.0+cu124 requires nvidia-cudnn-cu12==9.1.0.70; platform_system == \"Linux\" and platform_machine == \"x86_64\", but you have nvidia-cudnn-cu12 9.3.0.75 which is incompatible.\n",
      "torch 2.6.0+cu124 requires nvidia-cufft-cu12==11.2.1.3; platform_system == \"Linux\" and platform_machine == \"x86_64\", but you have nvidia-cufft-cu12 11.2.3.61 which is incompatible.\n",
      "torch 2.6.0+cu124 requires nvidia-curand-cu12==10.3.5.147; platform_system == \"Linux\" and platform_machine == \"x86_64\", but you have nvidia-curand-cu12 10.3.6.82 which is incompatible.\n",
      "torch 2.6.0+cu124 requires nvidia-cusolver-cu12==11.6.1.9; platform_system == \"Linux\" and platform_machine == \"x86_64\", but you have nvidia-cusolver-cu12 11.6.3.83 which is incompatible.\n",
      "torch 2.6.0+cu124 requires nvidia-cusparse-cu12==12.3.1.170; platform_system == \"Linux\" and platform_machine == \"x86_64\", but you have nvidia-cusparse-cu12 12.5.1.3 which is incompatible.\n",
      "torch 2.6.0+cu124 requires nvidia-nvjitlink-cu12==12.4.127; platform_system == \"Linux\" and platform_machine == \"x86_64\", but you have nvidia-nvjitlink-cu12 12.5.82 which is incompatible.\u001b[0m\u001b[31m\n",
      "\u001b[0mSuccessfully installed datasets-3.5.0 dill-0.3.8 fsspec-2024.12.0 multiprocess-0.70.16 xxhash-3.5.0\n",
      "Mounted at /content/drive\n"
     ]
    }
   ],
   "source": [
    "!pip install datasets\n",
    "from datasets import load_dataset\n",
    "import random\n",
    "from PIL import Image, ImageEnhance, ImageOps\n",
    "import io\n",
    "import os\n",
    "import random\n",
    "import numpy as np\n",
    "\n",
    "# Mount google drive\n",
    "from google.colab import drive\n",
    "drive.mount('/content/drive')"
   ]
  },
  {
   "cell_type": "code",
   "execution_count": null,
   "metadata": {},
   "outputs": [
    {
     "name": "stderr",
     "output_type": "stream",
     "text": [
      "/usr/local/lib/python3.11/dist-packages/huggingface_hub/utils/_auth.py:94: UserWarning: \n",
      "The secret `HF_TOKEN` does not exist in your Colab secrets.\n",
      "To authenticate with the Hugging Face Hub, create a token in your settings tab (https://huggingface.co/settings/tokens), set it as secret in your Google Colab and restart your session.\n",
      "You will be able to reuse this secret in all of your notebooks.\n",
      "Please note that authentication is recommended but still optional to access public models or datasets.\n",
      "  warnings.warn(\n"
     ]
    },
    {
     "data": {
      "application/vnd.jupyter.widget-view+json": {
       "model_id": "7d9b502887ac4fa9a382b626fe66600c",
       "version_major": 2,
       "version_minor": 0
      },
      "text/plain": [
       "README.md:   0%|          | 0.00/2.37k [00:00<?, ?B/s]"
      ]
     },
     "metadata": {},
     "output_type": "display_data"
    },
    {
     "data": {
      "application/vnd.jupyter.widget-view+json": {
       "model_id": "ee39e9808ed94118ba139fce521a2c09",
       "version_major": 2,
       "version_minor": 0
      },
      "text/plain": [
       "Resolving data files:   0%|          | 0/72 [00:00<?, ?it/s]"
      ]
     },
     "metadata": {},
     "output_type": "display_data"
    },
    {
     "data": {
      "application/vnd.jupyter.widget-view+json": {
       "model_id": "2354dc7e69614d45b823defc9765f3e9",
       "version_major": 2,
       "version_minor": 0
      },
      "text/plain": [
       "dataset_infos.json:   0%|          | 0.00/5.91k [00:00<?, ?B/s]"
      ]
     },
     "metadata": {},
     "output_type": "display_data"
    },
    {
     "data": {
      "application/vnd.jupyter.widget-view+json": {
       "model_id": "581cb1885d3543d09d3e5e01cafadce1",
       "version_major": 2,
       "version_minor": 0
      },
      "text/plain": [
       "Downloading data:   0%|          | 0/72 [00:00<?, ?files/s]"
      ]
     },
     "metadata": {},
     "output_type": "display_data"
    },
    {
     "data": {
      "application/vnd.jupyter.widget-view+json": {
       "model_id": "3cd53badae6f4cebb2ff0f615402387b",
       "version_major": 2,
       "version_minor": 0
      },
      "text/plain": [
       "train-00000-of-00072.parquet:   0%|          | 0.00/522M [00:00<?, ?B/s]"
      ]
     },
     "metadata": {},
     "output_type": "display_data"
    },
    {
     "data": {
      "application/vnd.jupyter.widget-view+json": {
       "model_id": "eb4d27ed92f2421bb4956177c9780c96",
       "version_major": 2,
       "version_minor": 0
      },
      "text/plain": [
       "train-00001-of-00072.parquet:   0%|          | 0.00/518M [00:00<?, ?B/s]"
      ]
     },
     "metadata": {},
     "output_type": "display_data"
    },
    {
     "data": {
      "application/vnd.jupyter.widget-view+json": {
       "model_id": "e94c08a45e20449caf1533b946b95a91",
       "version_major": 2,
       "version_minor": 0
      },
      "text/plain": [
       "train-00002-of-00072.parquet:   0%|          | 0.00/533M [00:00<?, ?B/s]"
      ]
     },
     "metadata": {},
     "output_type": "display_data"
    },
    {
     "data": {
      "application/vnd.jupyter.widget-view+json": {
       "model_id": "c9444335e7544ae896e8a4f1e435f79f",
       "version_major": 2,
       "version_minor": 0
      },
      "text/plain": [
       "train-00003-of-00072.parquet:   0%|          | 0.00/533M [00:00<?, ?B/s]"
      ]
     },
     "metadata": {},
     "output_type": "display_data"
    },
    {
     "data": {
      "application/vnd.jupyter.widget-view+json": {
       "model_id": "d28d852a0991403cbd51793f3e04d90b",
       "version_major": 2,
       "version_minor": 0
      },
      "text/plain": [
       "train-00004-of-00072.parquet:   0%|          | 0.00/532M [00:00<?, ?B/s]"
      ]
     },
     "metadata": {},
     "output_type": "display_data"
    },
    {
     "data": {
      "application/vnd.jupyter.widget-view+json": {
       "model_id": "7cecdde5ed324481bf62e64016d77020",
       "version_major": 2,
       "version_minor": 0
      },
      "text/plain": [
       "train-00005-of-00072.parquet:   0%|          | 0.00/519M [00:00<?, ?B/s]"
      ]
     },
     "metadata": {},
     "output_type": "display_data"
    },
    {
     "data": {
      "application/vnd.jupyter.widget-view+json": {
       "model_id": "7353e86294824fafb7d782635f3c542a",
       "version_major": 2,
       "version_minor": 0
      },
      "text/plain": [
       "train-00006-of-00072.parquet:   0%|          | 0.00/523M [00:00<?, ?B/s]"
      ]
     },
     "metadata": {},
     "output_type": "display_data"
    },
    {
     "data": {
      "application/vnd.jupyter.widget-view+json": {
       "model_id": "d022772fb3e84494bb5e61e8343b58b8",
       "version_major": 2,
       "version_minor": 0
      },
      "text/plain": [
       "train-00007-of-00072.parquet:   0%|          | 0.00/532M [00:00<?, ?B/s]"
      ]
     },
     "metadata": {},
     "output_type": "display_data"
    },
    {
     "data": {
      "application/vnd.jupyter.widget-view+json": {
       "model_id": "622d7414282441ad80149174c5597c8a",
       "version_major": 2,
       "version_minor": 0
      },
      "text/plain": [
       "train-00008-of-00072.parquet:   0%|          | 0.00/532M [00:00<?, ?B/s]"
      ]
     },
     "metadata": {},
     "output_type": "display_data"
    },
    {
     "data": {
      "application/vnd.jupyter.widget-view+json": {
       "model_id": "9f640f816d71422abd9d8fa39435fdab",
       "version_major": 2,
       "version_minor": 0
      },
      "text/plain": [
       "train-00009-of-00072.parquet:   0%|          | 0.00/531M [00:00<?, ?B/s]"
      ]
     },
     "metadata": {},
     "output_type": "display_data"
    },
    {
     "data": {
      "application/vnd.jupyter.widget-view+json": {
       "model_id": "800353fd059c4cc28565013b380f9b82",
       "version_major": 2,
       "version_minor": 0
      },
      "text/plain": [
       "train-00010-of-00072.parquet:   0%|          | 0.00/530M [00:00<?, ?B/s]"
      ]
     },
     "metadata": {},
     "output_type": "display_data"
    },
    {
     "data": {
      "application/vnd.jupyter.widget-view+json": {
       "model_id": "d8ead92fd45040ee83d7f516536b1fdf",
       "version_major": 2,
       "version_minor": 0
      },
      "text/plain": [
       "train-00011-of-00072.parquet:   0%|          | 0.00/539M [00:00<?, ?B/s]"
      ]
     },
     "metadata": {},
     "output_type": "display_data"
    },
    {
     "data": {
      "application/vnd.jupyter.widget-view+json": {
       "model_id": "bd221d94e11a44a788d924b94f52af17",
       "version_major": 2,
       "version_minor": 0
      },
      "text/plain": [
       "train-00012-of-00072.parquet:   0%|          | 0.00/523M [00:00<?, ?B/s]"
      ]
     },
     "metadata": {},
     "output_type": "display_data"
    },
    {
     "data": {
      "application/vnd.jupyter.widget-view+json": {
       "model_id": "8e9222cc3d634e6aa3a430029a7523f5",
       "version_major": 2,
       "version_minor": 0
      },
      "text/plain": [
       "train-00013-of-00072.parquet:   0%|          | 0.00/555M [00:00<?, ?B/s]"
      ]
     },
     "metadata": {},
     "output_type": "display_data"
    },
    {
     "data": {
      "application/vnd.jupyter.widget-view+json": {
       "model_id": "62d68a13d2ae44abad5b7612e49fcb7d",
       "version_major": 2,
       "version_minor": 0
      },
      "text/plain": [
       "train-00014-of-00072.parquet:   0%|          | 0.00/453M [00:00<?, ?B/s]"
      ]
     },
     "metadata": {},
     "output_type": "display_data"
    },
    {
     "data": {
      "application/vnd.jupyter.widget-view+json": {
       "model_id": "88180cca3597485193b0e8e97ee53536",
       "version_major": 2,
       "version_minor": 0
      },
      "text/plain": [
       "train-00015-of-00072.parquet:   0%|          | 0.00/563M [00:00<?, ?B/s]"
      ]
     },
     "metadata": {},
     "output_type": "display_data"
    },
    {
     "data": {
      "application/vnd.jupyter.widget-view+json": {
       "model_id": "b8d4be8d42874a44bddc4de9320ab54e",
       "version_major": 2,
       "version_minor": 0
      },
      "text/plain": [
       "train-00016-of-00072.parquet:   0%|          | 0.00/510M [00:00<?, ?B/s]"
      ]
     },
     "metadata": {},
     "output_type": "display_data"
    },
    {
     "data": {
      "application/vnd.jupyter.widget-view+json": {
       "model_id": "07eac620fa27432fb06e2d188c7ab67b",
       "version_major": 2,
       "version_minor": 0
      },
      "text/plain": [
       "train-00017-of-00072.parquet:   0%|          | 0.00/459M [00:00<?, ?B/s]"
      ]
     },
     "metadata": {},
     "output_type": "display_data"
    },
    {
     "data": {
      "application/vnd.jupyter.widget-view+json": {
       "model_id": "80d7e82d594c475bb1290118bce2427a",
       "version_major": 2,
       "version_minor": 0
      },
      "text/plain": [
       "train-00018-of-00072.parquet:   0%|          | 0.00/457M [00:00<?, ?B/s]"
      ]
     },
     "metadata": {},
     "output_type": "display_data"
    },
    {
     "data": {
      "application/vnd.jupyter.widget-view+json": {
       "model_id": "d288bc86dd5148d18eed4b1059f83e86",
       "version_major": 2,
       "version_minor": 0
      },
      "text/plain": [
       "train-00019-of-00072.parquet:   0%|          | 0.00/453M [00:00<?, ?B/s]"
      ]
     },
     "metadata": {},
     "output_type": "display_data"
    },
    {
     "data": {
      "application/vnd.jupyter.widget-view+json": {
       "model_id": "867cfae6ec7d4137800a72f02f41d8dc",
       "version_major": 2,
       "version_minor": 0
      },
      "text/plain": [
       "train-00020-of-00072.parquet:   0%|          | 0.00/455M [00:00<?, ?B/s]"
      ]
     },
     "metadata": {},
     "output_type": "display_data"
    },
    {
     "data": {
      "application/vnd.jupyter.widget-view+json": {
       "model_id": "b6ebcc05266d42cfb8da7042cb118866",
       "version_major": 2,
       "version_minor": 0
      },
      "text/plain": [
       "train-00021-of-00072.parquet:   0%|          | 0.00/456M [00:00<?, ?B/s]"
      ]
     },
     "metadata": {},
     "output_type": "display_data"
    },
    {
     "data": {
      "application/vnd.jupyter.widget-view+json": {
       "model_id": "c2e2f2618b3d404aa67aec75ff894808",
       "version_major": 2,
       "version_minor": 0
      },
      "text/plain": [
       "train-00022-of-00072.parquet:   0%|          | 0.00/448M [00:00<?, ?B/s]"
      ]
     },
     "metadata": {},
     "output_type": "display_data"
    },
    {
     "data": {
      "application/vnd.jupyter.widget-view+json": {
       "model_id": "7888af7510b64493b398ca4646f84471",
       "version_major": 2,
       "version_minor": 0
      },
      "text/plain": [
       "train-00023-of-00072.parquet:   0%|          | 0.00/453M [00:00<?, ?B/s]"
      ]
     },
     "metadata": {},
     "output_type": "display_data"
    },
    {
     "data": {
      "application/vnd.jupyter.widget-view+json": {
       "model_id": "4652587c1db342e3a641b438e0fd954b",
       "version_major": 2,
       "version_minor": 0
      },
      "text/plain": [
       "train-00024-of-00072.parquet:   0%|          | 0.00/444M [00:00<?, ?B/s]"
      ]
     },
     "metadata": {},
     "output_type": "display_data"
    },
    {
     "data": {
      "application/vnd.jupyter.widget-view+json": {
       "model_id": "f9113b91088643de84a195f70202f2e1",
       "version_major": 2,
       "version_minor": 0
      },
      "text/plain": [
       "train-00025-of-00072.parquet:   0%|          | 0.00/448M [00:00<?, ?B/s]"
      ]
     },
     "metadata": {},
     "output_type": "display_data"
    },
    {
     "data": {
      "application/vnd.jupyter.widget-view+json": {
       "model_id": "4c2c097c5a4647b2b271b2c491fb0148",
       "version_major": 2,
       "version_minor": 0
      },
      "text/plain": [
       "train-00026-of-00072.parquet:   0%|          | 0.00/464M [00:00<?, ?B/s]"
      ]
     },
     "metadata": {},
     "output_type": "display_data"
    },
    {
     "data": {
      "application/vnd.jupyter.widget-view+json": {
       "model_id": "039b7542f41a4175bbf057ac7ba7eebb",
       "version_major": 2,
       "version_minor": 0
      },
      "text/plain": [
       "train-00027-of-00072.parquet:   0%|          | 0.00/455M [00:00<?, ?B/s]"
      ]
     },
     "metadata": {},
     "output_type": "display_data"
    },
    {
     "data": {
      "application/vnd.jupyter.widget-view+json": {
       "model_id": "0227143906464e1ba25983f0f96bb86b",
       "version_major": 2,
       "version_minor": 0
      },
      "text/plain": [
       "train-00028-of-00072.parquet:   0%|          | 0.00/442M [00:00<?, ?B/s]"
      ]
     },
     "metadata": {},
     "output_type": "display_data"
    },
    {
     "data": {
      "application/vnd.jupyter.widget-view+json": {
       "model_id": "7a95f976eb0b48388df129a2f0658ec8",
       "version_major": 2,
       "version_minor": 0
      },
      "text/plain": [
       "train-00029-of-00072.parquet:   0%|          | 0.00/449M [00:00<?, ?B/s]"
      ]
     },
     "metadata": {},
     "output_type": "display_data"
    },
    {
     "data": {
      "application/vnd.jupyter.widget-view+json": {
       "model_id": "10ea078e4db2429f8e5d0225a205b339",
       "version_major": 2,
       "version_minor": 0
      },
      "text/plain": [
       "train-00030-of-00072.parquet:   0%|          | 0.00/452M [00:00<?, ?B/s]"
      ]
     },
     "metadata": {},
     "output_type": "display_data"
    },
    {
     "data": {
      "application/vnd.jupyter.widget-view+json": {
       "model_id": "051838fbbbc74da48a84118a62dc68a8",
       "version_major": 2,
       "version_minor": 0
      },
      "text/plain": [
       "train-00031-of-00072.parquet:   0%|          | 0.00/450M [00:00<?, ?B/s]"
      ]
     },
     "metadata": {},
     "output_type": "display_data"
    },
    {
     "data": {
      "application/vnd.jupyter.widget-view+json": {
       "model_id": "3417701c1bcf402988ef758ed54237ed",
       "version_major": 2,
       "version_minor": 0
      },
      "text/plain": [
       "train-00032-of-00072.parquet:   0%|          | 0.00/460M [00:00<?, ?B/s]"
      ]
     },
     "metadata": {},
     "output_type": "display_data"
    },
    {
     "data": {
      "application/vnd.jupyter.widget-view+json": {
       "model_id": "cd8138497a72444b8ebf40a03356a52a",
       "version_major": 2,
       "version_minor": 0
      },
      "text/plain": [
       "train-00033-of-00072.parquet:   0%|          | 0.00/455M [00:00<?, ?B/s]"
      ]
     },
     "metadata": {},
     "output_type": "display_data"
    },
    {
     "data": {
      "application/vnd.jupyter.widget-view+json": {
       "model_id": "cc1efc41554a4531b79c50f6243d6ed5",
       "version_major": 2,
       "version_minor": 0
      },
      "text/plain": [
       "train-00034-of-00072.parquet:   0%|          | 0.00/466M [00:00<?, ?B/s]"
      ]
     },
     "metadata": {},
     "output_type": "display_data"
    },
    {
     "data": {
      "application/vnd.jupyter.widget-view+json": {
       "model_id": "eaa0f0a1266c40889eeed8dc94c094c6",
       "version_major": 2,
       "version_minor": 0
      },
      "text/plain": [
       "train-00035-of-00072.parquet:   0%|          | 0.00/455M [00:00<?, ?B/s]"
      ]
     },
     "metadata": {},
     "output_type": "display_data"
    },
    {
     "data": {
      "application/vnd.jupyter.widget-view+json": {
       "model_id": "edebdea28eda4deaa2b97f56c5deca8a",
       "version_major": 2,
       "version_minor": 0
      },
      "text/plain": [
       "train-00036-of-00072.parquet:   0%|          | 0.00/446M [00:00<?, ?B/s]"
      ]
     },
     "metadata": {},
     "output_type": "display_data"
    },
    {
     "data": {
      "application/vnd.jupyter.widget-view+json": {
       "model_id": "0f2d72b6458149589e19bda7eb17852d",
       "version_major": 2,
       "version_minor": 0
      },
      "text/plain": [
       "train-00037-of-00072.parquet:   0%|          | 0.00/453M [00:00<?, ?B/s]"
      ]
     },
     "metadata": {},
     "output_type": "display_data"
    },
    {
     "data": {
      "application/vnd.jupyter.widget-view+json": {
       "model_id": "9804f3cdda164e3cbe8021cd14243d60",
       "version_major": 2,
       "version_minor": 0
      },
      "text/plain": [
       "train-00038-of-00072.parquet:   0%|          | 0.00/454M [00:00<?, ?B/s]"
      ]
     },
     "metadata": {},
     "output_type": "display_data"
    },
    {
     "data": {
      "application/vnd.jupyter.widget-view+json": {
       "model_id": "ea991a96bda24cff834d5191c9df5547",
       "version_major": 2,
       "version_minor": 0
      },
      "text/plain": [
       "train-00039-of-00072.parquet:   0%|          | 0.00/454M [00:00<?, ?B/s]"
      ]
     },
     "metadata": {},
     "output_type": "display_data"
    },
    {
     "data": {
      "application/vnd.jupyter.widget-view+json": {
       "model_id": "2a69d6e2c53748f9820cf502f24757c4",
       "version_major": 2,
       "version_minor": 0
      },
      "text/plain": [
       "train-00040-of-00072.parquet:   0%|          | 0.00/440M [00:00<?, ?B/s]"
      ]
     },
     "metadata": {},
     "output_type": "display_data"
    },
    {
     "data": {
      "application/vnd.jupyter.widget-view+json": {
       "model_id": "31c0a0476a044b10a80a14905fdc7e28",
       "version_major": 2,
       "version_minor": 0
      },
      "text/plain": [
       "train-00041-of-00072.parquet:   0%|          | 0.00/455M [00:00<?, ?B/s]"
      ]
     },
     "metadata": {},
     "output_type": "display_data"
    },
    {
     "data": {
      "application/vnd.jupyter.widget-view+json": {
       "model_id": "347cdb88b31245869f4fd8f343f6844d",
       "version_major": 2,
       "version_minor": 0
      },
      "text/plain": [
       "train-00042-of-00072.parquet:   0%|          | 0.00/446M [00:00<?, ?B/s]"
      ]
     },
     "metadata": {},
     "output_type": "display_data"
    },
    {
     "data": {
      "application/vnd.jupyter.widget-view+json": {
       "model_id": "3bcef1126fbe4565b7a09bb52b7b4f6e",
       "version_major": 2,
       "version_minor": 0
      },
      "text/plain": [
       "train-00043-of-00072.parquet:   0%|          | 0.00/473M [00:00<?, ?B/s]"
      ]
     },
     "metadata": {},
     "output_type": "display_data"
    },
    {
     "data": {
      "application/vnd.jupyter.widget-view+json": {
       "model_id": "3db938298a4049bb8964672ec89aa798",
       "version_major": 2,
       "version_minor": 0
      },
      "text/plain": [
       "train-00044-of-00072.parquet:   0%|          | 0.00/451M [00:00<?, ?B/s]"
      ]
     },
     "metadata": {},
     "output_type": "display_data"
    },
    {
     "data": {
      "application/vnd.jupyter.widget-view+json": {
       "model_id": "c7f11c8f35f944c6ac9d2aaf3efbbdc4",
       "version_major": 2,
       "version_minor": 0
      },
      "text/plain": [
       "train-00045-of-00072.parquet:   0%|          | 0.00/452M [00:00<?, ?B/s]"
      ]
     },
     "metadata": {},
     "output_type": "display_data"
    },
    {
     "data": {
      "application/vnd.jupyter.widget-view+json": {
       "model_id": "b290ad422fb04ac086646b34cb6dfcb5",
       "version_major": 2,
       "version_minor": 0
      },
      "text/plain": [
       "train-00046-of-00072.parquet:   0%|          | 0.00/458M [00:00<?, ?B/s]"
      ]
     },
     "metadata": {},
     "output_type": "display_data"
    },
    {
     "data": {
      "application/vnd.jupyter.widget-view+json": {
       "model_id": "8195b2c5bf5340f0b85c10d84495df7c",
       "version_major": 2,
       "version_minor": 0
      },
      "text/plain": [
       "train-00047-of-00072.parquet:   0%|          | 0.00/481M [00:00<?, ?B/s]"
      ]
     },
     "metadata": {},
     "output_type": "display_data"
    },
    {
     "data": {
      "application/vnd.jupyter.widget-view+json": {
       "model_id": "0f5452b2599b44a7a1545a4b68c181ac",
       "version_major": 2,
       "version_minor": 0
      },
      "text/plain": [
       "train-00048-of-00072.parquet:   0%|          | 0.00/491M [00:00<?, ?B/s]"
      ]
     },
     "metadata": {},
     "output_type": "display_data"
    },
    {
     "data": {
      "application/vnd.jupyter.widget-view+json": {
       "model_id": "ca3c584d3fe8439daa3bde0e305073fc",
       "version_major": 2,
       "version_minor": 0
      },
      "text/plain": [
       "train-00049-of-00072.parquet:   0%|          | 0.00/489M [00:00<?, ?B/s]"
      ]
     },
     "metadata": {},
     "output_type": "display_data"
    },
    {
     "data": {
      "application/vnd.jupyter.widget-view+json": {
       "model_id": "12e2653ffcae48e4b4c2883f76803744",
       "version_major": 2,
       "version_minor": 0
      },
      "text/plain": [
       "train-00050-of-00072.parquet:   0%|          | 0.00/472M [00:00<?, ?B/s]"
      ]
     },
     "metadata": {},
     "output_type": "display_data"
    },
    {
     "data": {
      "application/vnd.jupyter.widget-view+json": {
       "model_id": "5cba5b4c9c714d029e69319b56683887",
       "version_major": 2,
       "version_minor": 0
      },
      "text/plain": [
       "train-00051-of-00072.parquet:   0%|          | 0.00/515M [00:00<?, ?B/s]"
      ]
     },
     "metadata": {},
     "output_type": "display_data"
    },
    {
     "data": {
      "application/vnd.jupyter.widget-view+json": {
       "model_id": "0c40f2559ca34750ac4c7d4968ad03ab",
       "version_major": 2,
       "version_minor": 0
      },
      "text/plain": [
       "train-00052-of-00072.parquet:   0%|          | 0.00/514M [00:00<?, ?B/s]"
      ]
     },
     "metadata": {},
     "output_type": "display_data"
    },
    {
     "data": {
      "application/vnd.jupyter.widget-view+json": {
       "model_id": "87f6cb23b77f407abd8955626f7f1bb3",
       "version_major": 2,
       "version_minor": 0
      },
      "text/plain": [
       "train-00053-of-00072.parquet:   0%|          | 0.00/509M [00:00<?, ?B/s]"
      ]
     },
     "metadata": {},
     "output_type": "display_data"
    },
    {
     "data": {
      "application/vnd.jupyter.widget-view+json": {
       "model_id": "c7098d7630214374af94388fd8864217",
       "version_major": 2,
       "version_minor": 0
      },
      "text/plain": [
       "train-00054-of-00072.parquet:   0%|          | 0.00/462M [00:00<?, ?B/s]"
      ]
     },
     "metadata": {},
     "output_type": "display_data"
    },
    {
     "data": {
      "application/vnd.jupyter.widget-view+json": {
       "model_id": "00b27c00c8b34e669d1cd4b5455dadbe",
       "version_major": 2,
       "version_minor": 0
      },
      "text/plain": [
       "train-00055-of-00072.parquet:   0%|          | 0.00/453M [00:00<?, ?B/s]"
      ]
     },
     "metadata": {},
     "output_type": "display_data"
    },
    {
     "data": {
      "application/vnd.jupyter.widget-view+json": {
       "model_id": "3799e9c4cec14a0cb68698cf34fefbf4",
       "version_major": 2,
       "version_minor": 0
      },
      "text/plain": [
       "train-00056-of-00072.parquet:   0%|          | 0.00/414M [00:00<?, ?B/s]"
      ]
     },
     "metadata": {},
     "output_type": "display_data"
    },
    {
     "data": {
      "application/vnd.jupyter.widget-view+json": {
       "model_id": "81cd5f8cc9db47be91cfc5add3e335e8",
       "version_major": 2,
       "version_minor": 0
      },
      "text/plain": [
       "train-00057-of-00072.parquet:   0%|          | 0.00/405M [00:00<?, ?B/s]"
      ]
     },
     "metadata": {},
     "output_type": "display_data"
    },
    {
     "data": {
      "application/vnd.jupyter.widget-view+json": {
       "model_id": "246bbf1703ad429980d4688a2a1ef1ec",
       "version_major": 2,
       "version_minor": 0
      },
      "text/plain": [
       "train-00058-of-00072.parquet:   0%|          | 0.00/359M [00:00<?, ?B/s]"
      ]
     },
     "metadata": {},
     "output_type": "display_data"
    },
    {
     "data": {
      "application/vnd.jupyter.widget-view+json": {
       "model_id": "c2fa9f48472d48ba84d9b7958589a75b",
       "version_major": 2,
       "version_minor": 0
      },
      "text/plain": [
       "train-00059-of-00072.parquet:   0%|          | 0.00/304M [00:00<?, ?B/s]"
      ]
     },
     "metadata": {},
     "output_type": "display_data"
    },
    {
     "data": {
      "application/vnd.jupyter.widget-view+json": {
       "model_id": "4bd6db7c50204967a7b8146da6ad1ad0",
       "version_major": 2,
       "version_minor": 0
      },
      "text/plain": [
       "train-00060-of-00072.parquet:   0%|          | 0.00/449M [00:00<?, ?B/s]"
      ]
     },
     "metadata": {},
     "output_type": "display_data"
    },
    {
     "data": {
      "application/vnd.jupyter.widget-view+json": {
       "model_id": "66f246b43157418fa16b62ffdb139c9d",
       "version_major": 2,
       "version_minor": 0
      },
      "text/plain": [
       "train-00061-of-00072.parquet:   0%|          | 0.00/438M [00:00<?, ?B/s]"
      ]
     },
     "metadata": {},
     "output_type": "display_data"
    },
    {
     "data": {
      "application/vnd.jupyter.widget-view+json": {
       "model_id": "4cba000fe0624931b0bc95a74379dd98",
       "version_major": 2,
       "version_minor": 0
      },
      "text/plain": [
       "train-00062-of-00072.parquet:   0%|          | 0.00/447M [00:00<?, ?B/s]"
      ]
     },
     "metadata": {},
     "output_type": "display_data"
    },
    {
     "data": {
      "application/vnd.jupyter.widget-view+json": {
       "model_id": "27c1a03bc683454ea8927e14dd8c4905",
       "version_major": 2,
       "version_minor": 0
      },
      "text/plain": [
       "train-00063-of-00072.parquet:   0%|          | 0.00/435M [00:00<?, ?B/s]"
      ]
     },
     "metadata": {},
     "output_type": "display_data"
    },
    {
     "data": {
      "application/vnd.jupyter.widget-view+json": {
       "model_id": "64496d5c4fae4197a133f970d5b75696",
       "version_major": 2,
       "version_minor": 0
      },
      "text/plain": [
       "train-00064-of-00072.parquet:   0%|          | 0.00/446M [00:00<?, ?B/s]"
      ]
     },
     "metadata": {},
     "output_type": "display_data"
    },
    {
     "data": {
      "application/vnd.jupyter.widget-view+json": {
       "model_id": "5ee2985da3a44cb589a4f37bb5efe175",
       "version_major": 2,
       "version_minor": 0
      },
      "text/plain": [
       "train-00065-of-00072.parquet:   0%|          | 0.00/439M [00:00<?, ?B/s]"
      ]
     },
     "metadata": {},
     "output_type": "display_data"
    },
    {
     "data": {
      "application/vnd.jupyter.widget-view+json": {
       "model_id": "31c55e3f7d4d41bebf8a799f17c4473c",
       "version_major": 2,
       "version_minor": 0
      },
      "text/plain": [
       "train-00066-of-00072.parquet:   0%|          | 0.00/448M [00:00<?, ?B/s]"
      ]
     },
     "metadata": {},
     "output_type": "display_data"
    },
    {
     "data": {
      "application/vnd.jupyter.widget-view+json": {
       "model_id": "bbab7107af924c4d903529257bb3759a",
       "version_major": 2,
       "version_minor": 0
      },
      "text/plain": [
       "train-00067-of-00072.parquet:   0%|          | 0.00/436M [00:00<?, ?B/s]"
      ]
     },
     "metadata": {},
     "output_type": "display_data"
    },
    {
     "data": {
      "application/vnd.jupyter.widget-view+json": {
       "model_id": "88b8a148d62a4ef6b047e016f21c3ff3",
       "version_major": 2,
       "version_minor": 0
      },
      "text/plain": [
       "train-00068-of-00072.parquet:   0%|          | 0.00/474M [00:00<?, ?B/s]"
      ]
     },
     "metadata": {},
     "output_type": "display_data"
    },
    {
     "data": {
      "application/vnd.jupyter.widget-view+json": {
       "model_id": "036e50ff17fd4259a9a367a0454e9035",
       "version_major": 2,
       "version_minor": 0
      },
      "text/plain": [
       "train-00069-of-00072.parquet:   0%|          | 0.00/454M [00:00<?, ?B/s]"
      ]
     },
     "metadata": {},
     "output_type": "display_data"
    },
    {
     "data": {
      "application/vnd.jupyter.widget-view+json": {
       "model_id": "6731d477c48f41ff90e113a3d099fcfe",
       "version_major": 2,
       "version_minor": 0
      },
      "text/plain": [
       "train-00070-of-00072.parquet:   0%|          | 0.00/486M [00:00<?, ?B/s]"
      ]
     },
     "metadata": {},
     "output_type": "display_data"
    },
    {
     "data": {
      "application/vnd.jupyter.widget-view+json": {
       "model_id": "8dbf7e1876a44b918a8b0e7ff24b5917",
       "version_major": 2,
       "version_minor": 0
      },
      "text/plain": [
       "train-00071-of-00072.parquet:   0%|          | 0.00/367M [00:00<?, ?B/s]"
      ]
     },
     "metadata": {},
     "output_type": "display_data"
    },
    {
     "data": {
      "application/vnd.jupyter.widget-view+json": {
       "model_id": "fea325aa155c4c8fa0719ce68d0a5cf6",
       "version_major": 2,
       "version_minor": 0
      },
      "text/plain": [
       "Generating train split:   0%|          | 0/81444 [00:00<?, ? examples/s]"
      ]
     },
     "metadata": {},
     "output_type": "display_data"
    },
    {
     "data": {
      "application/vnd.jupyter.widget-view+json": {
       "model_id": "43984775bd1742c3905fabbd4f60ab6c",
       "version_major": 2,
       "version_minor": 0
      },
      "text/plain": [
       "Loading dataset shards:   0%|          | 0/45 [00:00<?, ?it/s]"
      ]
     },
     "metadata": {},
     "output_type": "display_data"
    }
   ],
   "source": [
    "# Load the dataset\n",
    "ds = load_dataset(\"huggan/wikiart\")"
   ]
  },
  {
   "cell_type": "code",
   "execution_count": null,
   "metadata": {},
   "outputs": [
    {
     "data": {
      "application/vnd.jupyter.widget-view+json": {
       "model_id": "bee2a7055cde4067af8fc208877dd36b",
       "version_major": 2,
       "version_minor": 0
      },
      "text/plain": [
       "Filter:   0%|          | 0/81444 [00:00<?, ? examples/s]"
      ]
     },
     "metadata": {},
     "output_type": "display_data"
    },
    {
     "name": "stdout",
     "output_type": "stream",
     "text": [
      "Images saved successfully!\n"
     ]
    }
   ],
   "source": [
    "# Create the folder structure\n",
    "os.makedirs('data/authentic', exist_ok=True)\n",
    "os.makedirs('data/non_authentic', exist_ok=True)\n",
    "\n",
    "# Filter the dataset\n",
    "# genre_painting: 2, portrait: 6\n",
    "# Post_Impressionism: 20\n",
    "filtered_ds = ds['train'].filter(lambda x: ((x['genre'] == 6) | (x['genre'] == 2)) and x['style'] == 20)\n",
    "\n",
    "# Save the images\n",
    "for i, item in enumerate(filtered_ds):\n",
    "    image = item['image']\n",
    "    artist = item['artist']\n",
    "\n",
    "    # Convert image to PIL format if necessary\n",
    "    if isinstance(image, bytes):\n",
    "        image = Image.open(io.BytesIO(image))\n",
    "\n",
    "    # Define the folder based on the artist\n",
    "    if artist == 22: #'vincent-van-gogh':22, 'cezanne': 16\n",
    "        folder = 'data/authentic'\n",
    "    else:\n",
    "        folder = 'data/non_authentic'\n",
    "\n",
    "    # Save the image\n",
    "    image_path = os.path.join(folder, f'image_{i+1}.png')\n",
    "    image.save(image_path)\n",
    "\n",
    "print(\"Images saved successfully!\")"
   ]
  },
  {
   "cell_type": "code",
   "execution_count": null,
   "metadata": {},
   "outputs": [
    {
     "name": "stdout",
     "output_type": "stream",
     "text": [
      "Number of authentic images: 834\n",
      "Number of non-authentic images: 1615\n"
     ]
    }
   ],
   "source": [
    "\n",
    "# # Set random seed for reproducibility\n",
    "# SEED = 42\n",
    "# random.seed(SEED)\n",
    "# np.random.seed(SEED)\n",
    "\n",
    "\n",
    "# Define folder paths\n",
    "authentic_path = 'data/authentic'\n",
    "non_authentic_path = 'data/non_authentic'\n",
    "\n",
    "# # Keep only a sample of 258 images in non_authentic folder\n",
    "# non_authentic_images = [f for f in os.listdir(non_authentic_path) if f.endswith('.png')]\n",
    "# if len(non_authentic_images) > 258:\n",
    "#     to_delete = random.sample(non_authentic_images, len(non_authentic_images) - 258)\n",
    "#     for img in to_delete:\n",
    "#         os.remove(os.path.join(non_authentic_path, img))\n",
    "\n",
    "# Augment authentic data to reach 235 images\n",
    "authentic_images = [f for f in os.listdir(authentic_path) if f.endswith('.png')]\n",
    "\n",
    "def augment_image(image):\n",
    "    # Random flipping\n",
    "    if random.choice([True, False]):\n",
    "        image = ImageOps.mirror(image)\n",
    "\n",
    "    # Random rotation\n",
    "    angle = random.randint(-30, 30)\n",
    "    image = image.rotate(angle)\n",
    "\n",
    "    # Random shear\n",
    "    shear = random.uniform(-0.2, 0.2)\n",
    "    width, height = image.size\n",
    "    xshift = abs(shear) * width\n",
    "    new_width = width + int(round(xshift))\n",
    "    image = image.transform((new_width, height), Image.AFFINE,\n",
    "                            (1, shear, -xshift if shear > 0 else 0, 0, 1, 0))\n",
    "\n",
    "    return image\n",
    "\n",
    "# Perform augmentation until we reach 834 images\n",
    "counter = len(authentic_images)\n",
    "while counter < 834:\n",
    "    img_name = random.choice(authentic_images)\n",
    "    img_path = os.path.join(authentic_path, img_name)\n",
    "    img = Image.open(img_path)\n",
    "\n",
    "    augmented_img = augment_image(img)\n",
    "    new_img_name = f\"augmented_{counter + 1}.png\"\n",
    "    augmented_img.save(os.path.join(authentic_path, new_img_name))\n",
    "    counter += 1\n",
    "\n",
    "\n",
    "\n",
    "# Count the number of image files in each folder\n",
    "authentic_count = len([f for f in os.listdir(authentic_path) if f.endswith('.png')])\n",
    "non_authentic_count = len([f for f in os.listdir(non_authentic_path) if f.endswith('.png')])\n",
    "\n",
    "# Display the results\n",
    "print(f\"Number of authentic images: {authentic_count}\")\n",
    "print(f\"Number of non-authentic images: {non_authentic_count}\")\n"
   ]
  },
  {
   "cell_type": "code",
   "execution_count": null,
   "metadata": {},
   "outputs": [
    {
     "data": {
      "application/vnd.google.colaboratory.intrinsic+json": {
       "type": "string"
      },
      "text/plain": [
       "'/content/drive/MyDrive/dataVanGogh'"
      ]
     },
     "execution_count": 5,
     "metadata": {},
     "output_type": "execute_result"
    }
   ],
   "source": [
    "import shutil\n",
    "\n",
    "# Define the source folder and target folder in Google Drive\n",
    "source_folder = '/content/data'\n",
    "target_folder = '/content/drive/MyDrive/dataVanGogh'\n",
    "\n",
    "# Save folder to drive\n",
    "shutil.copytree(source_folder, target_folder)"
   ]
  }
 ],
 "metadata": {
  "language_info": {
   "name": "python"
  }
 },
 "nbformat": 4,
 "nbformat_minor": 0
}
